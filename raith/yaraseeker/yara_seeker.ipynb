{
 "cells": [
  {
   "cell_type": "markdown",
   "metadata": {},
   "source": [
    "# YaraSeeker\n",
    "\n",
    "This notebook allows you to test Yara rules against a single binary or a directory (if there are several binaries). The results are presented in an interactive DataFrame, allowing filtering to aid in rule tuning during the development stage. \n",
    "\n",
    "---"
   ]
  },
  {
   "cell_type": "markdown",
   "metadata": {},
   "source": [
    "## Import and Init\n",
    "\n",
    "Run necessary imports and obtain path variables required for use.\n",
    "\n",
    "- Path\n",
    "  - Can be path to binary or directory to check for binaries\n",
    "- Rule(s)\n",
    "  - Can point to single .yar(a) file or directory or rule files\n",
    "\n",
    "__Ensure to add '/' when providing directory paths__\n",
    " \n",
    "Compile provided rule(s)"
   ]
  },
  {
   "cell_type": "code",
   "execution_count": null,
   "metadata": {},
   "outputs": [],
   "source": [
    "%run yara_imports.ipynb"
   ]
  },
  {
   "cell_type": "code",
   "execution_count": null,
   "metadata": {},
   "outputs": [],
   "source": [
    "yara_vars = init_Yara()"
   ]
  },
  {
   "cell_type": "code",
   "execution_count": null,
   "metadata": {},
   "outputs": [],
   "source": [
    "rules = rule_compiler(yara_vars['rules_file'], yara_vars['rules_file_type'])"
   ]
  },
  {
   "cell_type": "markdown",
   "metadata": {},
   "source": [
    "## File Scan\n",
    "\n",
    "Run the cells here if you are analysing a single binary with the provided rule(s)"
   ]
  },
  {
   "cell_type": "code",
   "execution_count": null,
   "metadata": {},
   "outputs": [],
   "source": [
    "matches = scan_file(yara_vars['path'], rules)"
   ]
  },
  {
   "cell_type": "code",
   "execution_count": null,
   "metadata": {},
   "outputs": [],
   "source": [
    "df2grid(match_split(matches))"
   ]
  },
  {
   "cell_type": "markdown",
   "metadata": {},
   "source": [
    "## Dir Scan\n",
    "\n",
    "Run these cells to check a directory for binary files which will be scanned by the provided rule(s)"
   ]
  },
  {
   "cell_type": "code",
   "execution_count": null,
   "metadata": {},
   "outputs": [],
   "source": [
    "matches = scan_dir(yara_vars['path'], rules)"
   ]
  },
  {
   "cell_type": "code",
   "execution_count": null,
   "metadata": {},
   "outputs": [],
   "source": [
    "df2grid(match_split(matches))"
   ]
  },
  {
   "cell_type": "code",
   "execution_count": null,
   "metadata": {},
   "outputs": [],
   "source": []
  }
 ],
 "metadata": {
  "kernelspec": {
   "display_name": "Python 3 (ipykernel)",
   "language": "python",
   "name": "python3"
  },
  "language_info": {
   "codemirror_mode": {
    "name": "ipython",
    "version": 3
   },
   "file_extension": ".py",
   "mimetype": "text/x-python",
   "name": "python",
   "nbconvert_exporter": "python",
   "pygments_lexer": "ipython3",
   "version": "3.10.12"
  }
 },
 "nbformat": 4,
 "nbformat_minor": 4
}
