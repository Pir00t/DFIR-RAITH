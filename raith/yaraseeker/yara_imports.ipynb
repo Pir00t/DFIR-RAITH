{
 "cells": [
  {
   "cell_type": "code",
   "execution_count": null,
   "metadata": {},
   "outputs": [],
   "source": [
    "# Author: Steven Folek | @Pir00t\n",
    "# Version: 1.0\n",
    "\n",
    "import ipywidgets as widgets\n",
    "import os\n",
    "import sys\n",
    "import yara\n",
    "sys.path.insert(1, '..')\n",
    "\n",
    "# import pandas and set pandas column width\n",
    "import pandas as pd\n",
    "pd.set_option('max_colwidth', 200)\n",
    "\n",
    "# ignore depracation warnings\n",
    "import warnings\n",
    "warnings.filterwarnings('ignore')\n",
    "\n",
    "# common imports\n",
    "from common.df_interact import df2grid\n",
    "from common.logger import logger_conf\n",
    "\n",
    "# script reqs\n",
    "from scripts.df_convert import convert\n",
    "from scripts.seeker import init_Yara, match_split, rule_compiler, scan_dir, scan_file\n",
    "\n",
    "# setup some ENV vars for use with functions\n",
    "CWD = os.getcwd()\n",
    "HOME = '/home/analyst/'\n",
    "TOOLS = '/home/analyst/tools/'\n",
    "\n",
    "# create output directories if not already there\n",
    "outdirs = ['yara_rules']\n",
    "for p in outdirs:\n",
    "\tif not os.path.exists(p):\n",
    "\t\tos.mkdir(p)"
   ]
  }
 ],
 "metadata": {
  "kernelspec": {
   "display_name": "Python 3 (ipykernel)",
   "language": "python",
   "name": "python3"
  },
  "language_info": {
   "codemirror_mode": {
    "name": "ipython",
    "version": 3
   },
   "file_extension": ".py",
   "mimetype": "text/x-python",
   "name": "python",
   "nbconvert_exporter": "python",
   "pygments_lexer": "ipython3",
   "version": "3.10.12"
  }
 },
 "nbformat": 4,
 "nbformat_minor": 4
}
